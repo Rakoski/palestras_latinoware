{
 "cells": [
  {
   "cell_type": "code",
   "execution_count": null,
   "metadata": {},
   "outputs": [],
   "source": [
    "openai_key = \"kk\""
   ]
  },
  {
   "cell_type": "code",
   "execution_count": null,
   "metadata": {},
   "outputs": [],
   "source": [
    "%pip install weaviate-client"
   ]
  },
  {
   "cell_type": "code",
   "execution_count": null,
   "metadata": {},
   "outputs": [],
   "source": [
    "import weaviate\n",
    "\n",
    "client = weaviate.connect_to_embedded(\n",
    "    headers = {\n",
    "        \"X-OpenAI-Api-Key\": openai_key,\n",
    "    },\n",
    "    version = \"latest\"\n",
    ")"
   ]
  },
  {
   "cell_type": "code",
   "execution_count": null,
   "metadata": {},
   "outputs": [],
   "source": [
    "client.collections.delete_all()"
   ]
  },
  {
   "cell_type": "code",
   "execution_count": null,
   "metadata": {},
   "outputs": [],
   "source": [
    "from weaviate import classes as wvc "
   ]
  },
  {
   "cell_type": "code",
   "execution_count": null,
   "metadata": {},
   "outputs": [],
   "source": [
    "collection = client.collections.create(\n",
    "    name=\"Bebidas\",\n",
    "    vectorizer_config=wvc.config.Configure.Vectorizer.text2vec_openai(model=\"text-embedding-3-small\"),\n",
    "    generative_config=wvc.config.Configure.Generative.openai(\n",
    "        max_tokens=1000,\n",
    "        temperature=0.7\n",
    "    )\n",
    ")"
   ]
  },
  {
   "cell_type": "code",
   "execution_count": null,
   "metadata": {},
   "outputs": [],
   "source": [
    "client.collections.list_all()"
   ]
  },
  {
   "cell_type": "code",
   "execution_count": null,
   "metadata": {},
   "outputs": [],
   "source": [
    "coco = client.collections.get(\"Bebidas\")\n",
    "coco.config.get().to_dict() # weaviate já cria uma coleção por padrão"
   ]
  },
  {
   "cell_type": "code",
   "execution_count": null,
   "metadata": {},
   "outputs": [],
   "source": [
    "coco.data.insert({\"text\": \"Água Natual. Diretamente da Bahia\"})"
   ]
  },
  {
   "cell_type": "code",
   "execution_count": null,
   "metadata": {},
   "outputs": [],
   "source": [
    "query = coco.query.fetch_objects(include_vector=True) # olha meu vetor aq foi gerado"
   ]
  },
  {
   "cell_type": "code",
   "execution_count": null,
   "metadata": {},
   "outputs": [],
   "source": [
    "query = coco.query.bm25(\"Gelado\")\n",
    "for o in query.objects:\n",
    "    print(\"propriedades: \", o.properties)\n"
   ]
  },
  {
   "cell_type": "code",
   "execution_count": null,
   "metadata": {},
   "outputs": [],
   "source": [
    "query = coco.query.near_text(\"É um chá do Paraguay\",\n",
    "    return_metadata=wvc.query.MetadataQuery(distance=True),\n",
    "    single_prompt=\"Gere por favor um tweet pra essa bebida. use emojis e tenha um tom engraçado. Use {text}\"\n",
    ")\n",
    "for o in query.objects:\n",
    "    print(\"propriedades: \", o.properties, \" distância: \", o.metadata.distance)"
   ]
  },
  {
   "cell_type": "code",
   "execution_count": null,
   "metadata": {},
   "outputs": [],
   "source": [
    "query = coco.generate.near_text(\"É um chá do Paraguay\",\n",
    "    return_metadata=wvc.query.MetadataQuery(distance=True),\n",
    "    single_prompt=\"Gere por favor um tweet pra essa bebida. use emojis e tenha um tom engraçado. Use o campo {text}\"\n",
    ")\n",
    "for o in query.objects:\n",
    "    print(\"propriedades: \", o.properties, \" distância: \", o.metadata.distance, \" Generated: \", o.generated)"
   ]
  },
  {
   "cell_type": "code",
   "execution_count": null,
   "metadata": {},
   "outputs": [],
   "source": [
    "client.close()"
   ]
  },
  {
   "cell_type": "code",
   "execution_count": null,
   "metadata": {},
   "outputs": [],
   "source": [
    "client.is_ready()"
   ]
  },
  {
   "cell_type": "code",
   "execution_count": null,
   "metadata": {},
   "outputs": [],
   "source": [
    "client.get_meta()"
   ]
  },
  {
   "cell_type": "code",
   "execution_count": null,
   "metadata": {},
   "outputs": [],
   "source": []
  }
 ],
 "metadata": {
  "kernelspec": {
   "display_name": ".venv",
   "language": "python",
   "name": "python3"
  },
  "language_info": {
   "codemirror_mode": {
    "name": "ipython",
    "version": 3
   },
   "file_extension": ".py",
   "mimetype": "text/x-python",
   "name": "python",
   "nbconvert_exporter": "python",
   "pygments_lexer": "ipython3",
   "version": "3.11.2"
  }
 },
 "nbformat": 4,
 "nbformat_minor": 2
}